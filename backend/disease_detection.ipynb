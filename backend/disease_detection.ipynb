{
 "cells": [
  {
   "cell_type": "code",
   "execution_count": 1,
   "metadata": {},
   "outputs": [
    {
     "ename": "ModuleNotFoundError",
     "evalue": "No module named 'tensorflow'",
     "output_type": "error",
     "traceback": [
      "\u001b[1;31m---------------------------------------------------------------------------\u001b[0m",
      "\u001b[1;31mModuleNotFoundError\u001b[0m                       Traceback (most recent call last)",
      "\u001b[1;32m~\\AppData\\Local\\Temp/ipykernel_13904/2415990541.py\u001b[0m in \u001b[0;36m<module>\u001b[1;34m\u001b[0m\n\u001b[0;32m      1\u001b[0m \u001b[1;32mimport\u001b[0m \u001b[0mnumpy\u001b[0m \u001b[1;32mas\u001b[0m \u001b[0mnp\u001b[0m\u001b[1;33m\u001b[0m\u001b[1;33m\u001b[0m\u001b[0m\n\u001b[1;32m----> 2\u001b[1;33m \u001b[1;32mimport\u001b[0m \u001b[0mtensorflow\u001b[0m \u001b[1;32mas\u001b[0m \u001b[0mtf\u001b[0m\u001b[1;33m\u001b[0m\u001b[1;33m\u001b[0m\u001b[0m\n\u001b[0m\u001b[0;32m      3\u001b[0m \u001b[1;32mfrom\u001b[0m \u001b[0mkeras\u001b[0m \u001b[1;32mimport\u001b[0m \u001b[0mmodels\u001b[0m\u001b[1;33m,\u001b[0m \u001b[0mlayers\u001b[0m\u001b[1;33m,\u001b[0m \u001b[0moptimizers\u001b[0m\u001b[1;33m\u001b[0m\u001b[1;33m\u001b[0m\u001b[0m\n\u001b[0;32m      4\u001b[0m \u001b[1;32mfrom\u001b[0m \u001b[0mtensorflow\u001b[0m\u001b[1;33m.\u001b[0m\u001b[0mkeras\u001b[0m\u001b[1;33m.\u001b[0m\u001b[0mlosses\u001b[0m \u001b[1;32mimport\u001b[0m \u001b[0mCategoricalCrossentropy\u001b[0m\u001b[1;33m\u001b[0m\u001b[1;33m\u001b[0m\u001b[0m\n\u001b[0;32m      5\u001b[0m \u001b[1;31m# from keras_tuner import HyperParameters, RandomSearch\u001b[0m\u001b[1;33m\u001b[0m\u001b[1;33m\u001b[0m\u001b[0m\n",
      "\u001b[1;31mModuleNotFoundError\u001b[0m: No module named 'tensorflow'"
     ]
    }
   ],
   "source": [
    "import numpy as np\n",
    "import tensorflow as tf\n",
    "from keras import models, layers, optimizers\n",
    "from tensorflow.keras.losses import CategoricalCrossentropy\n",
    "# from keras_tuner import HyperParameters, RandomSearch\n",
    "\n",
    "# data manipulation\n",
    "from keras.utils import to_categorical\n",
    "from imblearn.over_sampling import RandomOverSampler, SMOTE\n",
    "from imblearn.under_sampling import RandomUnderSampler\n",
    "\n",
    "# data processing\n",
    "from sklearn.preprocessing import LabelEncoder\n",
    "from sklearn.model_selection import train_test_split\n",
    "from sklearn.metrics import confusion_matrix, accuracy_score, precision_score, recall_score, f1_score\n",
    "import pandas as pd\n",
    "import csv\n",
    "\n",
    "# plotting\n",
    "import matplotlib.pyplot as plt\n",
    "import seaborn as sns\n",
    "\n",
    "import os\n",
    "for dirname, _, filenames in os.walk('backend/data'):\n",
    "    for filename in filenames:\n",
    "        print(os.path.join(dirname, filename))"
   ]
  },
  {
   "cell_type": "markdown",
   "metadata": {},
   "source": [
    "### Processing Data"
   ]
  },
  {
   "cell_type": "code",
   "execution_count": 14,
   "metadata": {},
   "outputs": [],
   "source": [
    "# def stringToCategorical"
   ]
  },
  {
   "cell_type": "code",
   "execution_count": 15,
   "metadata": {},
   "outputs": [
    {
     "name": "stdout",
     "output_type": "stream",
     "text": [
      "       Disease Fever Cough Fatigue Difficulty Breathing  Age  Gender  \\\n",
      "0    Influenza   Yes    No     Yes                  Yes   19  Female   \n",
      "1  Common Cold    No   Yes     Yes                   No   25  Female   \n",
      "2       Eczema    No   Yes     Yes                   No   25  Female   \n",
      "3       Asthma   Yes   Yes      No                  Yes   25    Male   \n",
      "4       Asthma   Yes   Yes      No                  Yes   25    Male   \n",
      "\n",
      "  Blood Pressure Cholesterol Level Outcome Variable  \n",
      "0            Low            Normal         Positive  \n",
      "1         Normal            Normal         Negative  \n",
      "2         Normal            Normal         Negative  \n",
      "3         Normal            Normal         Positive  \n",
      "4         Normal            Normal         Positive  \n"
     ]
    }
   ],
   "source": [
    "data = pd.read_csv(r'data\\Disease_symptom_and_patient_profile_dataset.csv')\n",
    "print(data.head())\n",
    "\n",
    "# # # one hot encoding\n",
    "data['Gender'] = LabelEncoder().fit_transform(data['Gender'])\n",
    "data['Blood Pressure'] = LabelEncoder().fit_transform(data['Blood Pressure'])\n",
    "data['Cholesterol Level'] = LabelEncoder().fit_transform(data['Cholesterol Level'])\n",
    "data['Fever'] = LabelEncoder().fit_transform(data['Fever'])\n",
    "data['Fatigue'] = LabelEncoder().fit_transform(data['Fatigue'])\n",
    "data['Cough'] = LabelEncoder().fit_transform(data['Cough'])\n",
    "data['Difficulty Breathing'] = LabelEncoder().fit_transform(data['Difficulty Breathing'])\n",
    "\n",
    "y = pd.Categorical(data[\"Disease\"])\n",
    "y = pd.get_dummies(y)\n",
    "y_labels = sorted(list(set(y)))\n",
    "\n",
    "X = np.array(data.drop([\"Disease\", \"Outcome Variable\"], axis=1)) # axis 1 is whole columns\n",
    "\n",
    "X_train, X_test, y_train, y_test = train_test_split(X, y, test_size=0.1)"
   ]
  },
  {
   "cell_type": "code",
   "execution_count": 16,
   "metadata": {},
   "outputs": [
    {
     "name": "stdout",
     "output_type": "stream",
     "text": [
      "      Acne  Allergic Rhinitis  Alzheimer's Disease  Anemia  Anxiety Disorders  \\\n",
      "0    False              False                False   False              False   \n",
      "1    False              False                False   False              False   \n",
      "2    False              False                False   False              False   \n",
      "3    False              False                False   False              False   \n",
      "4    False              False                False   False              False   \n",
      "..     ...                ...                  ...     ...                ...   \n",
      "344  False              False                False   False              False   \n",
      "345  False              False                False   False              False   \n",
      "346  False              False                False   False              False   \n",
      "347  False              False                False   False              False   \n",
      "348  False              False                False   False              False   \n",
      "\n",
      "     Appendicitis  Asthma  Atherosclerosis  Autism Spectrum Disorder (ASD)  \\\n",
      "0           False   False            False                           False   \n",
      "1           False   False            False                           False   \n",
      "2           False   False            False                           False   \n",
      "3           False    True            False                           False   \n",
      "4           False    True            False                           False   \n",
      "..            ...     ...              ...                             ...   \n",
      "344         False   False            False                           False   \n",
      "345         False   False            False                           False   \n",
      "346         False   False            False                           False   \n",
      "347         False   False            False                           False   \n",
      "348         False   False            False                           False   \n",
      "\n",
      "     Bipolar Disorder  ...  Tonsillitis  Tourette Syndrome  Tuberculosis  \\\n",
      "0               False  ...        False              False         False   \n",
      "1               False  ...        False              False         False   \n",
      "2               False  ...        False              False         False   \n",
      "3               False  ...        False              False         False   \n",
      "4               False  ...        False              False         False   \n",
      "..                ...  ...          ...                ...           ...   \n",
      "344             False  ...        False              False         False   \n",
      "345             False  ...        False              False         False   \n",
      "346             False  ...        False              False         False   \n",
      "347             False  ...        False              False         False   \n",
      "348             False  ...        False              False         False   \n",
      "\n",
      "     Turner Syndrome  Typhoid Fever  Ulcerative Colitis  \\\n",
      "0              False          False               False   \n",
      "1              False          False               False   \n",
      "2              False          False               False   \n",
      "3              False          False               False   \n",
      "4              False          False               False   \n",
      "..               ...            ...                 ...   \n",
      "344            False          False               False   \n",
      "345            False          False               False   \n",
      "346            False          False               False   \n",
      "347            False          False               False   \n",
      "348            False          False               False   \n",
      "\n",
      "     Urinary Tract Infection  Urinary Tract Infection (UTI)  \\\n",
      "0                      False                          False   \n",
      "1                      False                          False   \n",
      "2                      False                          False   \n",
      "3                      False                          False   \n",
      "4                      False                          False   \n",
      "..                       ...                            ...   \n",
      "344                    False                          False   \n",
      "345                    False                          False   \n",
      "346                    False                          False   \n",
      "347                    False                          False   \n",
      "348                    False                          False   \n",
      "\n",
      "     Williams Syndrome  Zika Virus  \n",
      "0                False       False  \n",
      "1                False       False  \n",
      "2                False       False  \n",
      "3                False       False  \n",
      "4                False       False  \n",
      "..                 ...         ...  \n",
      "344              False       False  \n",
      "345              False       False  \n",
      "346              False       False  \n",
      "347              False       False  \n",
      "348              False       False  \n",
      "\n",
      "[349 rows x 116 columns]\n"
     ]
    }
   ],
   "source": [
    "print(y)"
   ]
  },
  {
   "cell_type": "code",
   "execution_count": 17,
   "metadata": {},
   "outputs": [
    {
     "name": "stdout",
     "output_type": "stream",
     "text": [
      "[[1 0 1 ... 0 1 2]\n",
      " [0 1 1 ... 0 2 2]\n",
      " [0 1 1 ... 0 2 2]\n",
      " ...\n",
      " [1 0 1 ... 1 0 0]\n",
      " [1 0 1 ... 0 0 0]\n",
      " [1 0 1 ... 0 0 0]]\n"
     ]
    }
   ],
   "source": [
    "print(X)"
   ]
  },
  {
   "cell_type": "markdown",
   "metadata": {},
   "source": [
    "### Apply Neural Network"
   ]
  },
  {
   "cell_type": "code",
   "execution_count": 18,
   "metadata": {},
   "outputs": [
    {
     "name": "stdout",
     "output_type": "stream",
     "text": [
      "Epoch 1/40\n",
      "79/79 [==============================] - 1s 1ms/step - loss: 4.7657 - accuracy: 0.0096\n",
      "Epoch 2/40\n",
      "79/79 [==============================] - 0s 1ms/step - loss: 4.6759 - accuracy: 0.0255\n",
      "Epoch 3/40\n",
      "79/79 [==============================] - 0s 2ms/step - loss: 4.5372 - accuracy: 0.0446\n",
      "Epoch 4/40\n",
      "79/79 [==============================] - 0s 1ms/step - loss: 4.4186 - accuracy: 0.0446\n",
      "Epoch 5/40\n",
      "79/79 [==============================] - 0s 1ms/step - loss: 4.3559 - accuracy: 0.0701\n",
      "Epoch 6/40\n",
      "79/79 [==============================] - 0s 1ms/step - loss: 4.3207 - accuracy: 0.0701\n",
      "Epoch 7/40\n",
      "79/79 [==============================] - 0s 1ms/step - loss: 4.3030 - accuracy: 0.0701\n",
      "Epoch 8/40\n",
      "79/79 [==============================] - 0s 1ms/step - loss: 4.2908 - accuracy: 0.0701\n",
      "Epoch 9/40\n",
      "79/79 [==============================] - 0s 2ms/step - loss: 4.2807 - accuracy: 0.0701\n",
      "Epoch 10/40\n",
      "79/79 [==============================] - 0s 1ms/step - loss: 4.2690 - accuracy: 0.0701\n",
      "Epoch 11/40\n",
      "79/79 [==============================] - 0s 1ms/step - loss: 4.2622 - accuracy: 0.0701\n",
      "Epoch 12/40\n",
      "79/79 [==============================] - 0s 1ms/step - loss: 4.2523 - accuracy: 0.0701\n",
      "Epoch 13/40\n",
      "79/79 [==============================] - 0s 1ms/step - loss: 4.2485 - accuracy: 0.0701\n",
      "Epoch 14/40\n",
      "79/79 [==============================] - 0s 1ms/step - loss: 4.2429 - accuracy: 0.0701\n",
      "Epoch 15/40\n",
      "79/79 [==============================] - 0s 1ms/step - loss: 4.2379 - accuracy: 0.0701\n",
      "Epoch 16/40\n",
      "79/79 [==============================] - 0s 1ms/step - loss: 4.2275 - accuracy: 0.0701\n",
      "Epoch 17/40\n",
      "79/79 [==============================] - 0s 1ms/step - loss: 4.2216 - accuracy: 0.0701\n",
      "Epoch 18/40\n",
      "79/79 [==============================] - 0s 1ms/step - loss: 4.2092 - accuracy: 0.0796\n",
      "Epoch 19/40\n",
      "79/79 [==============================] - 0s 1ms/step - loss: 4.2022 - accuracy: 0.0764\n",
      "Epoch 20/40\n",
      "79/79 [==============================] - 0s 1ms/step - loss: 4.1945 - accuracy: 0.0732\n",
      "Epoch 21/40\n",
      "79/79 [==============================] - 0s 1ms/step - loss: 4.1873 - accuracy: 0.0764\n",
      "Epoch 22/40\n",
      "79/79 [==============================] - 0s 1ms/step - loss: 4.1829 - accuracy: 0.0860\n",
      "Epoch 23/40\n",
      "79/79 [==============================] - 0s 1ms/step - loss: 4.1752 - accuracy: 0.0828\n",
      "Epoch 24/40\n",
      "79/79 [==============================] - 0s 1ms/step - loss: 4.1703 - accuracy: 0.0732\n",
      "Epoch 25/40\n",
      "79/79 [==============================] - 0s 1ms/step - loss: 4.1619 - accuracy: 0.0860\n",
      "Epoch 26/40\n",
      "79/79 [==============================] - 0s 1ms/step - loss: 4.1586 - accuracy: 0.0924\n",
      "Epoch 27/40\n",
      "79/79 [==============================] - 0s 1ms/step - loss: 4.1502 - accuracy: 0.0955\n",
      "Epoch 28/40\n",
      "79/79 [==============================] - 0s 1ms/step - loss: 4.1431 - accuracy: 0.0955\n",
      "Epoch 29/40\n",
      "79/79 [==============================] - 0s 1ms/step - loss: 4.1368 - accuracy: 0.1019\n",
      "Epoch 30/40\n",
      "79/79 [==============================] - 0s 2ms/step - loss: 4.1297 - accuracy: 0.0924\n",
      "Epoch 31/40\n",
      "79/79 [==============================] - 0s 1ms/step - loss: 4.1278 - accuracy: 0.1051\n",
      "Epoch 32/40\n",
      "79/79 [==============================] - 0s 1ms/step - loss: 4.1205 - accuracy: 0.1019\n",
      "Epoch 33/40\n",
      "79/79 [==============================] - 0s 1ms/step - loss: 4.1140 - accuracy: 0.1083\n",
      "Epoch 34/40\n",
      "79/79 [==============================] - 0s 1ms/step - loss: 4.1076 - accuracy: 0.1051\n",
      "Epoch 35/40\n",
      "79/79 [==============================] - 0s 1ms/step - loss: 4.1019 - accuracy: 0.1051\n",
      "Epoch 36/40\n",
      "79/79 [==============================] - 0s 1ms/step - loss: 4.0967 - accuracy: 0.1083\n",
      "Epoch 37/40\n",
      "79/79 [==============================] - 0s 2ms/step - loss: 4.0898 - accuracy: 0.1051\n",
      "Epoch 38/40\n",
      "79/79 [==============================] - 0s 1ms/step - loss: 4.0844 - accuracy: 0.1019\n",
      "Epoch 39/40\n",
      "79/79 [==============================] - 0s 1ms/step - loss: 4.0795 - accuracy: 0.1083\n",
      "Epoch 40/40\n",
      "79/79 [==============================] - 0s 1ms/step - loss: 4.0763 - accuracy: 0.1019\n"
     ]
    },
    {
     "data": {
      "text/plain": [
       "<keras.callbacks.History at 0x23efdc54400>"
      ]
     },
     "execution_count": 18,
     "metadata": {},
     "output_type": "execute_result"
    }
   ],
   "source": [
    "model = models.Sequential([\n",
    "    layers.Dense(units = 16,input_dim = len(X_train[0]), activation = 'relu'),\n",
    "    layers.Dense(units = 8, activation = 'sigmoid'),\n",
    "    layers.Dense(units = len(y_labels), activation = 'softmax')\n",
    "])\n",
    "\n",
    "#loss\n",
    "model.compile(optimizer = optimizers.Adam(learning_rate=1e-3), loss = CategoricalCrossentropy(),metrics=['accuracy']) #\n",
    "\n",
    "# early_stopping = EarlyStopping(monitor='recall', patience=4,restore_best_weights=True)\n",
    "\n",
    "#fit\n",
    "model.fit(X_train,y_train,epochs = 40, batch_size=4)"
   ]
  },
  {
   "cell_type": "code",
   "execution_count": 19,
   "metadata": {},
   "outputs": [
    {
     "name": "stdout",
     "output_type": "stream",
     "text": [
      "Test Accuracy: 0.05714285746216774\n"
     ]
    }
   ],
   "source": [
    "test_results = model.evaluate(X_test, y_test, return_dict=True, verbose=0)\n",
    "test_acc = test_results['accuracy']\n",
    "print(\"Test Accuracy:\",test_acc)"
   ]
  }
 ],
 "metadata": {
  "kernelspec": {
   "display_name": "Python 3",
   "language": "python",
   "name": "python3"
  },
  "language_info": {
   "codemirror_mode": {
    "name": "ipython",
    "version": 3
   },
   "file_extension": ".py",
   "mimetype": "text/x-python",
   "name": "python",
   "nbconvert_exporter": "python",
   "pygments_lexer": "ipython3",
   "version": "3.9.13"
  }
 },
 "nbformat": 4,
 "nbformat_minor": 2
}
