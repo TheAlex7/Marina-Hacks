{
 "cells": [
  {
   "cell_type": "code",
   "execution_count": 13,
   "metadata": {},
   "outputs": [],
   "source": [
    "import numpy as np\n",
    "import tensorflow as tf\n",
    "from keras import models, layers, optimizers\n",
    "from tensorflow.keras.losses import SparseCategoricalCrossentropy\n",
    "# from keras_tuner import HyperParameters, RandomSearch\n",
    "\n",
    "# data manipulation\n",
    "from keras.utils import to_categorical\n",
    "from imblearn.over_sampling import RandomOverSampler, SMOTE\n",
    "from imblearn.under_sampling import RandomUnderSampler\n",
    "\n",
    "# data processing\n",
    "from sklearn.preprocessing import LabelEncoder\n",
    "from tensorflow.keras.metrics import Precision, Recall, F1Score\n",
    "from sklearn.model_selection import train_test_split\n",
    "from sklearn.metrics import confusion_matrix\n",
    "import pandas as pd\n",
    "import csv\n",
    "\n",
    "# plotting\n",
    "import matplotlib.pyplot as plt\n",
    "import seaborn as sns\n",
    "\n",
    "import os\n",
    "for dirname, _, filenames in os.walk('backend/data'):\n",
    "    for filename in filenames:\n",
    "        print(os.path.join(dirname, filename))\n",
    "\n",
    "### uncomment to download dataset; place in data folder afterwards\n",
    "# import kagglehub\n",
    "# path = kagglehub.dataset_download(\"kmader/skin-cancer-mnist-ham10000\") # skin cancer dataset\n",
    "# print(\"Path to dataset files:\", path)"
   ]
  },
  {
   "cell_type": "markdown",
   "metadata": {},
   "source": [
    "### Processing Data"
   ]
  },
  {
   "cell_type": "code",
   "execution_count": 14,
   "metadata": {},
   "outputs": [
    {
     "name": "stdout",
     "output_type": "stream",
     "text": [
      "   pixel0000  pixel0001  pixel0002  pixel0003  pixel0004  pixel0005  \\\n",
      "0        192        153        193        195        155        192   \n",
      "1         25         14         30         68         48         75   \n",
      "2        192        138        153        200        145        163   \n",
      "3         38         19         30         95         59         72   \n",
      "4        158        113        139        194        144        174   \n",
      "\n",
      "   pixel0006  pixel0007  pixel0008  pixel0009  ...  pixel2343  pixel2344  \\\n",
      "0        197        154        185        202  ...        173        124   \n",
      "1        123         93        126        158  ...         60         39   \n",
      "2        201        142        160        206  ...        167        129   \n",
      "3        143        103        119        171  ...         44         26   \n",
      "4        215        162        191        225  ...        209        166   \n",
      "\n",
      "   pixel2345  pixel2346  pixel2347  pixel2348  pixel2349  pixel2350  \\\n",
      "0        138        183        147        166        185        154   \n",
      "1         55         25         14         28         25         14   \n",
      "2        143        159        124        142        136        104   \n",
      "3         36         25         12         17         25         12   \n",
      "4        185        172        135        149        109         78   \n",
      "\n",
      "   pixel2351  label  \n",
      "0        177      2  \n",
      "1         27      2  \n",
      "2        117      2  \n",
      "3         15      2  \n",
      "4         92      2  \n",
      "\n",
      "[5 rows x 2353 columns]\n"
     ]
    }
   ],
   "source": [
    "data = pd.read_csv(r'data\\hmnist_28_28_RGB.csv')\n",
    "print(data.head())\n",
    "\n",
    "y = data['label']\n",
    "y_labels = sorted(list(set(y)))\n",
    "\n",
    "X = data.drop([\"label\"], axis=1) # axis 1 is whole columns\n",
    "X = np.array(X)\n",
    "# print(\"np.shape:\", np.shape(X))\n",
    "\n",
    "X_train, X_test, y_train, y_test = train_test_split(X, y, test_size=0.2)"
   ]
  },
  {
   "cell_type": "code",
   "execution_count": 15,
   "metadata": {},
   "outputs": [
    {
     "name": "stdout",
     "output_type": "stream",
     "text": [
      "[0, 1, 2, 3, 4, 5, 6]\n"
     ]
    }
   ],
   "source": [
    "print(y_labels)"
   ]
  },
  {
   "cell_type": "code",
   "execution_count": 16,
   "metadata": {},
   "outputs": [
    {
     "name": "stdout",
     "output_type": "stream",
     "text": [
      "(10015, 2352)\n"
     ]
    }
   ],
   "source": [
    "# X = np.array(X)\n",
    "print(X.shape)"
   ]
  },
  {
   "cell_type": "markdown",
   "metadata": {},
   "source": [
    "### Apply Neural Network"
   ]
  },
  {
   "cell_type": "code",
   "execution_count": 17,
   "metadata": {},
   "outputs": [
    {
     "name": "stdout",
     "output_type": "stream",
     "text": [
      "Epoch 1/10\n",
      "2003/2003 [==============================] - 7s 3ms/step - loss: 14.9906 - accuracy: 0.5337\n",
      "Epoch 2/10\n",
      "2003/2003 [==============================] - 5s 3ms/step - loss: 1.8711 - accuracy: 0.6050\n",
      "Epoch 3/10\n",
      "2003/2003 [==============================] - 5s 3ms/step - loss: 1.8057 - accuracy: 0.6218\n",
      "Epoch 4/10\n",
      "2003/2003 [==============================] - 5s 3ms/step - loss: 1.7134 - accuracy: 0.6043\n",
      "Epoch 5/10\n",
      "2003/2003 [==============================] - 5s 3ms/step - loss: 1.1382 - accuracy: 0.6702\n",
      "Epoch 6/10\n",
      "2003/2003 [==============================] - 5s 3ms/step - loss: 1.1306 - accuracy: 0.6702\n",
      "Epoch 7/10\n",
      "2003/2003 [==============================] - 5s 3ms/step - loss: 1.1306 - accuracy: 0.6702\n",
      "Epoch 8/10\n",
      "2003/2003 [==============================] - 6s 3ms/step - loss: 1.1306 - accuracy: 0.6702\n",
      "Epoch 9/10\n",
      "2003/2003 [==============================] - 6s 3ms/step - loss: 1.1305 - accuracy: 0.6702\n",
      "Epoch 10/10\n",
      "2003/2003 [==============================] - 6s 3ms/step - loss: 1.1308 - accuracy: 0.6702\n"
     ]
    },
    {
     "data": {
      "text/plain": [
       "<keras.callbacks.History at 0x19eacf12770>"
      ]
     },
     "execution_count": 17,
     "metadata": {},
     "output_type": "execute_result"
    }
   ],
   "source": [
    "model = models.Sequential([\n",
    "    layers.Dense(units = 256,input_dim = len(X_train[0]), activation = 'relu'),\n",
    "    layers.Dense(units = 64, activation = 'relu'),\n",
    "    layers.Dense(units = 32, activation = 'relu'),\n",
    "    layers.Dense(units = len(y_labels), activation = 'softmax')\n",
    "])\n",
    "\n",
    "#loss\n",
    "model.compile(optimizer = optimizers.Adam(learning_rate=1e-3), loss = SparseCategoricalCrossentropy(),metrics=['accuracy', \"val_loss\"]) #\n",
    "\n",
    "early_stopping = EarlyStopping(monitor='recall', patience=4,restore_best_weights=True)\n",
    "\n",
    "#fit\n",
    "model.fit(X_train,y_train,epochs = 10, batch_size=32, validation_data=valid)"
   ]
  },
  {
   "cell_type": "code",
   "execution_count": 18,
   "metadata": {},
   "outputs": [
    {
     "name": "stdout",
     "output_type": "stream",
     "text": [
      "Test Accuracy: 0.6665002703666687\n"
     ]
    }
   ],
   "source": [
    "test_results = model.evaluate(X_test, y_test, return_dict=True, verbose=0)\n",
    "test_acc = test_results['accuracy']\n",
    "print(\"Test Accuracy:\",test_acc)"
   ]
  }
 ],
 "metadata": {
  "kernelspec": {
   "display_name": "keras-tuner",
   "language": "python",
   "name": "python3"
  },
  "language_info": {
   "codemirror_mode": {
    "name": "ipython",
    "version": 3
   },
   "file_extension": ".py",
   "mimetype": "text/x-python",
   "name": "python",
   "nbconvert_exporter": "python",
   "pygments_lexer": "ipython3",
   "version": "3.10.8"
  }
 },
 "nbformat": 4,
 "nbformat_minor": 2
}
